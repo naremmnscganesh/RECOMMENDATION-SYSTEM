{
  "cells": [
    {
      "cell_type": "code",
      "execution_count": null,
      "metadata": {
        "id": "Rsz-zdJpfNeE"
      },
      "outputs": [],
      "source": [
        "# Step 1: Import Required Libraries\n",
        "import pandas as pd\n",
        "import numpy as np\n",
        "import matplotlib.pyplot as plt\n",
        "import seaborn as sns\n",
        "from sklearn.model_selection import train_test_split\n",
        "from sklearn.metrics import mean_squared_error, mean_absolute_error\n",
        "from sklearn.decomposition import TruncatedSVD\n",
        "from sklearn.metrics.pairwise import cosine_similarity\n",
        "from scipy.sparse import csr_matrix\n",
        "import warnings\n",
        "warnings.filterwarnings('ignore')"
      ]
    },
    {
      "cell_type": "code",
      "execution_count": null,
      "metadata": {
        "colab": {
          "base_uri": "https://localhost:8080/"
        },
        "id": "HZUr2NzsIFev",
        "outputId": "5ca62523-e2b5-4a0c-cde9-0ab75c3ea578"
      },
      "outputs": [
        {
          "name": "stdout",
          "output_type": "stream",
          "text": [
            "=== MOVIE RECOMMENDATION SYSTEM ===\n",
            "Using Collaborative Filtering & Matrix Factorization\n",
            "\n",
            "Step 1: Loading MovieLens Dataset...\n"
          ]
        }
      ],
      "source": [
        "print(\"=== MOVIE RECOMMENDATION SYSTEM ===\")\n",
        "print(\"Using Collaborative Filtering & Matrix Factorization\\n\")\n",
        "\n",
        "# Step 2: Load Dataset from URL (MovieLens 100K Dataset)\n",
        "print(\"Step 1: Loading MovieLens Dataset...\")\n",
        "\n",
        "# MovieLens 100K dataset URLs\n",
        "ratings_url = \"https://raw.githubusercontent.com/sidooms/MovieTweetings/master/latest/ratings.dat\"\n",
        "movies_url = \"https://raw.githubusercontent.com/sidooms/MovieTweetings/master/latest/movies.dat\""
      ]
    },
    {
      "cell_type": "code",
      "execution_count": null,
      "metadata": {
        "colab": {
          "base_uri": "https://localhost:8080/"
        },
        "id": "S1QqmLKTILxi",
        "outputId": "b185af4b-8746-41cc-c660-95727a18b7e1"
      },
      "outputs": [
        {
          "name": "stdout",
          "output_type": "stream",
          "text": [
            "✓ Successfully loaded 921398 ratings and 38018 movies\n"
          ]
        }
      ],
      "source": [
        "try:\n",
        "    # Load ratings data\n",
        "    ratings_cols = ['user_id', 'movie_id', 'rating', 'timestamp']\n",
        "    ratings = pd.read_csv(ratings_url, sep='::', names=ratings_cols, engine='python')\n",
        "\n",
        "    # Load movies data\n",
        "    movies_cols = ['movie_id', 'title', 'genres']\n",
        "    movies = pd.read_csv(movies_url, sep='::', names=movies_cols, engine='python', encoding='latin-1')\n",
        "\n",
        "    print(f\"✓ Successfully loaded {len(ratings)} ratings and {len(movies)} movies\")\n",
        "\n",
        "except:\n",
        "    # Fallback: Create synthetic dataset if URL fails\n",
        "    print(\"Creating synthetic dataset for demonstration...\")\n",
        "    np.random.seed(42)\n",
        "\n",
        "    n_users = 1000\n",
        "    n_movies = 500\n",
        "    n_ratings = 50000\n",
        "\n",
        "    user_ids = np.random.randint(1, n_users+1, n_ratings)\n",
        "    movie_ids = np.random.randint(1, n_movies+1, n_ratings)\n",
        "    ratings_values = np.random.choice([1, 2, 3, 4, 5], n_ratings, p=[0.1, 0.1, 0.2, 0.3, 0.3])\n",
        "    timestamps = np.random.randint(1000000000, 1600000000, n_ratings)\n",
        "\n",
        "    ratings = pd.DataFrame({\n",
        "        'user_id': user_ids,\n",
        "        'movie_id': movie_ids,\n",
        "        'rating': ratings_values,\n",
        "        'timestamp': timestamps\n",
        "    })\n",
        "\n",
        "    movies = pd.DataFrame({\n",
        "        'movie_id': range(1, n_movies+1),\n",
        "        'title': [f'Movie_{i}' for i in range(1, n_movies+1)],\n",
        "        'genres': np.random.choice(['Action', 'Comedy', 'Drama', 'Horror', 'Romance'], n_movies)\n",
        "    })\n",
        "\n",
        "    print(f\"✓ Created synthetic dataset with {len(ratings)} ratings and {len(movies)} movies\")"
      ]
    },
    {
      "cell_type": "code",
      "execution_count": null,
      "metadata": {
        "colab": {
          "base_uri": "https://localhost:8080/"
        },
        "id": "1ofKcE6JIRgb",
        "outputId": "0a49ea27-c9ff-47b4-85a5-940907612338"
      },
      "outputs": [
        {
          "name": "stdout",
          "output_type": "stream",
          "text": [
            "\n",
            "Step 2: Data Exploration...\n",
            "Ratings dataset shape: (921398, 4)\n",
            "Movies dataset shape: (38018, 3)\n",
            "Number of unique users: 71707\n",
            "Number of unique movies: 38013\n",
            "Rating range: 0 - 10\n",
            "Average rating: 7.31\n"
          ]
        }
      ],
      "source": [
        "# Step 3: Data Exploration and Preprocessing\n",
        "print(\"\\nStep 2: Data Exploration...\")\n",
        "\n",
        "print(f\"Ratings dataset shape: {ratings.shape}\")\n",
        "print(f\"Movies dataset shape: {movies.shape}\")\n",
        "print(f\"Number of unique users: {ratings['user_id'].nunique()}\")\n",
        "print(f\"Number of unique movies: {ratings['movie_id'].nunique()}\")\n",
        "print(f\"Rating range: {ratings['rating'].min()} - {ratings['rating'].max()}\")\n",
        "print(f\"Average rating: {ratings['rating'].mean():.2f}\")"
      ]
    },
    {
      "cell_type": "code",
      "execution_count": null,
      "metadata": {
        "colab": {
          "base_uri": "https://localhost:8080/"
        },
        "id": "0F1TdpZAIXnH",
        "outputId": "b36d515f-cb73-4446-f2cb-54f57f230b8e"
      },
      "outputs": [
        {
          "name": "stdout",
          "output_type": "stream",
          "text": [
            "After removing duplicates: 921398 ratings\n"
          ]
        }
      ],
      "source": [
        "# Remove duplicates and handle missing values\n",
        "ratings = ratings.drop_duplicates(['user_id', 'movie_id'])\n",
        "print(f\"After removing duplicates: {len(ratings)} ratings\")"
      ]
    },
    {
      "cell_type": "code",
      "execution_count": null,
      "metadata": {
        "colab": {
          "base_uri": "https://localhost:8080/"
        },
        "id": "-sulHl2CIcZo",
        "outputId": "4e572e68-bf34-4ca6-84f9-af9fa85d8a02"
      },
      "outputs": [
        {
          "name": "stdout",
          "output_type": "stream",
          "text": [
            "After filtering: 617183 ratings\n",
            "Users: 9303\n",
            "Movies: 5485\n"
          ]
        }
      ],
      "source": [
        "# Filter users and movies with minimum interactions\n",
        "min_user_ratings = 20\n",
        "min_movie_ratings = 20\n",
        "\n",
        "user_counts = ratings['user_id'].value_counts()\n",
        "movie_counts = ratings['movie_id'].value_counts()\n",
        "\n",
        "valid_users = user_counts[user_counts >= min_user_ratings].index\n",
        "valid_movies = movie_counts[movie_counts >= min_movie_ratings].index\n",
        "\n",
        "ratings_filtered = ratings[\n",
        "    (ratings['user_id'].isin(valid_users)) &\n",
        "    (ratings['movie_id'].isin(valid_movies))\n",
        "]\n",
        "\n",
        "print(f\"After filtering: {len(ratings_filtered)} ratings\")\n",
        "print(f\"Users: {ratings_filtered['user_id'].nunique()}\")\n",
        "print(f\"Movies: {ratings_filtered['movie_id'].nunique()}\")"
      ]
    },
    {
      "cell_type": "code",
      "execution_count": null,
      "metadata": {
        "colab": {
          "base_uri": "https://localhost:8080/"
        },
        "id": "YI7mVTKuIfzH",
        "outputId": "4fb9eff1-e4b4-49d6-bee9-f084acd39e8a"
      },
      "outputs": [
        {
          "name": "stdout",
          "output_type": "stream",
          "text": [
            "\n",
            "Step 3: Creating User-Item Matrix...\n",
            "User-Item Matrix shape: (9303, 5485)\n",
            "Sparsity: 98.79%\n"
          ]
        }
      ],
      "source": [
        "# Step 4: Create User-Item Matrix\n",
        "print(\"\\nStep 3: Creating User-Item Matrix...\")\n",
        "\n",
        "# Create pivot table (user-item matrix)\n",
        "user_item_matrix = ratings_filtered.pivot_table(\n",
        "    index='user_id',\n",
        "    columns='movie_id',\n",
        "    values='rating',\n",
        "    fill_value=0\n",
        ")\n",
        "\n",
        "print(f\"User-Item Matrix shape: {user_item_matrix.shape}\")\n",
        "print(f\"Sparsity: {(user_item_matrix == 0).sum().sum() / (user_item_matrix.shape[0] * user_item_matrix.shape[1]) * 100:.2f}%\")"
      ]
    },
    {
      "cell_type": "code",
      "execution_count": null,
      "metadata": {
        "colab": {
          "base_uri": "https://localhost:8080/"
        },
        "id": "Ei_6Kfo1IrwZ",
        "outputId": "e30721d7-196d-43d2-a3d5-660308be9a7a"
      },
      "outputs": [
        {
          "name": "stdout",
          "output_type": "stream",
          "text": [
            "\n",
            "Step 4: Splitting Data...\n"
          ]
        }
      ],
      "source": [
        "# Step 5: Train-Test Split\n",
        "print(\"\\nStep 4: Splitting Data...\")\n",
        "\n",
        "# Convert to sparse matrix for efficiency\n",
        "user_item_sparse = csr_matrix(user_item_matrix.values)\n",
        "\n",
        "# Split data\n",
        "train_data, test_data = train_test_split(\n",
        "    ratings_filtered,\n",
        "    test_size=0.2,\n",
        "    random_state=42,\n",
        "    stratify=ratings_filtered['user_id']\n",
        ")\n",
        "\n",
        "# Create train and test matrices\n",
        "train_matrix = train_data.pivot_table(\n",
        "    index='user_id',\n",
        "    columns='movie_id',\n",
        "    values='rating',\n",
        "    fill_value=0\n",
        ")\n",
        "\n",
        "test_matrix = test_data.pivot_table(\n",
        "    index='user_id',\n",
        "    columns='movie_id',\n",
        "    values='rating',\n",
        "    fill_value=0\n",
        ")"
      ]
    },
    {
      "cell_type": "code",
      "execution_count": null,
      "metadata": {
        "colab": {
          "base_uri": "https://localhost:8080/"
        },
        "id": "Dp5kRp0eIyE7",
        "outputId": "d4d9b431-514a-4ccc-e2ab-0a175c66f77a"
      },
      "outputs": [
        {
          "name": "stdout",
          "output_type": "stream",
          "text": [
            "Training matrix shape: (9301, 5461)\n",
            "Test matrix shape: (9301, 5461)\n"
          ]
        }
      ],
      "source": [
        "# Align matrices\n",
        "common_users = train_matrix.index.intersection(test_matrix.index)\n",
        "common_movies = train_matrix.columns.intersection(test_matrix.columns)\n",
        "\n",
        "train_matrix = train_matrix.loc[common_users, common_movies]\n",
        "test_matrix = test_matrix.loc[common_users, common_movies]\n",
        "\n",
        "print(f\"Training matrix shape: {train_matrix.shape}\")\n",
        "print(f\"Test matrix shape: {test_matrix.shape}\")"
      ]
    },
    {
      "cell_type": "code",
      "execution_count": null,
      "metadata": {
        "id": "uoWIZ-YtI7s_"
      },
      "outputs": [],
      "source": [
        "# Step 6: Implementation of Recommendation Algorithms\n",
        "\n",
        "class CollaborativeFilteringRecommender:\n",
        "    def __init__(self, method='user_based'):\n",
        "        self.method = method\n",
        "        self.similarity_matrix = None\n",
        "        self.user_item_matrix = None\n",
        "\n",
        "    def fit(self, user_item_matrix):\n",
        "        self.user_item_matrix = user_item_matrix\n",
        "\n",
        "        if self.method == 'user_based':\n",
        "            # User-based collaborative filtering\n",
        "            user_similarity = cosine_similarity(user_item_matrix)\n",
        "            self.similarity_matrix = pd.DataFrame(\n",
        "                user_similarity,\n",
        "                index=user_item_matrix.index,\n",
        "                columns=user_item_matrix.index\n",
        "            )\n",
        "        else:\n",
        "            # Item-based collaborative filtering\n",
        "            item_similarity = cosine_similarity(user_item_matrix.T)\n",
        "            self.similarity_matrix = pd.DataFrame(\n",
        "                item_similarity,\n",
        "                index=user_item_matrix.columns,\n",
        "                columns=user_item_matrix.columns\n",
        "            )\n",
        "\n",
        "    def predict(self, user_id, movie_id, k=50):\n",
        "        if self.method == 'user_based':\n",
        "            # Find similar users\n",
        "            if user_id not in self.similarity_matrix.index:\n",
        "                return self.user_item_matrix.mean().mean()\n",
        "\n",
        "            similar_users = self.similarity_matrix[user_id].sort_values(ascending=False)[1:k+1]\n",
        "\n",
        "            # Get ratings from similar users for this movie\n",
        "            ratings = []\n",
        "            similarities = []\n",
        "\n",
        "            for similar_user, similarity in similar_users.items():\n",
        "                if movie_id in self.user_item_matrix.columns:\n",
        "                    rating = self.user_item_matrix.loc[similar_user, movie_id]\n",
        "                    if rating > 0:\n",
        "                        ratings.append(rating)\n",
        "                        similarities.append(similarity)\n",
        "\n",
        "            if not ratings:\n",
        "                return self.user_item_matrix.mean().mean()\n",
        "\n",
        "            # Weighted average\n",
        "            weighted_sum = sum(r * s for r, s in zip(ratings, similarities))\n",
        "            similarity_sum = sum(similarities)\n",
        "\n",
        "            return weighted_sum / similarity_sum if similarity_sum > 0 else self.user_item_matrix.mean().mean()\n",
        "\n",
        "        else:\n",
        "            # Item-based prediction\n",
        "            if movie_id not in self.similarity_matrix.index or user_id not in self.user_item_matrix.index:\n",
        "                return self.user_item_matrix.mean().mean()\n",
        "\n",
        "            similar_movies = self.similarity_matrix[movie_id].sort_values(ascending=False)[1:k+1]\n",
        "\n",
        "            ratings = []\n",
        "            similarities = []\n",
        "\n",
        "            for similar_movie, similarity in similar_movies.items():\n",
        "                rating = self.user_item_matrix.loc[user_id, similar_movie]\n",
        "                if rating > 0:\n",
        "                    ratings.append(rating)\n",
        "                    similarities.append(similarity)\n",
        "\n",
        "            if not ratings:\n",
        "                return self.user_item_matrix.mean().mean()\n",
        "\n",
        "            weighted_sum = sum(r * s for r, s in zip(ratings, similarities))\n",
        "            similarity_sum = sum(similarities)\n",
        "\n",
        "            return weighted_sum / similarity_sum if similarity_sum > 0 else self.user_item_matrix.mean().mean()"
      ]
    },
    {
      "cell_type": "code",
      "execution_count": null,
      "metadata": {
        "id": "uP7qTzchJJWx"
      },
      "outputs": [],
      "source": [
        "class MatrixFactorizationRecommender:\n",
        "    def __init__(self, n_components=50, random_state=42):\n",
        "        self.n_components = n_components\n",
        "        self.random_state = random_state\n",
        "        self.model = TruncatedSVD(n_components=n_components, random_state=random_state)\n",
        "        self.user_factors = None\n",
        "        self.item_factors = None\n",
        "        self.global_mean = None\n",
        "\n",
        "    def fit(self, user_item_matrix):\n",
        "        self.global_mean = user_item_matrix[user_item_matrix > 0].mean().mean()\n",
        "\n",
        "        # Center the ratings\n",
        "        centered_matrix = user_item_matrix.copy()\n",
        "        centered_matrix[centered_matrix > 0] -= self.global_mean\n",
        "\n",
        "        # Fit SVD\n",
        "        self.user_factors = self.model.fit_transform(centered_matrix)\n",
        "        self.item_factors = self.model.components_.T\n",
        "\n",
        "    def predict(self, user_idx, item_idx):\n",
        "        prediction = np.dot(self.user_factors[user_idx], self.item_factors[item_idx]) + self.global_mean\n",
        "        return max(1, min(5, prediction))  # Clip to rating range\n",
        "\n",
        "    def predict_all(self, user_item_matrix):\n",
        "        predictions = np.dot(self.user_factors, self.item_factors.T) + self.global_mean\n",
        "        return np.clip(predictions, 1, 5)"
      ]
    },
    {
      "cell_type": "code",
      "execution_count": null,
      "metadata": {
        "colab": {
          "base_uri": "https://localhost:8080/"
        },
        "id": "6l9ncW9CJPJq",
        "outputId": "767e8d40-0b4e-4dcc-c96b-72c6afe59816"
      },
      "outputs": [
        {
          "name": "stdout",
          "output_type": "stream",
          "text": [
            "\n",
            "Step 5: Training Recommendation Models...\n",
            "Training User-based Collaborative Filtering...\n",
            "Training Item-based Collaborative Filtering...\n",
            "Training Matrix Factorization (SVD)...\n"
          ]
        }
      ],
      "source": [
        "# Step 7: Train Models\n",
        "print(\"\\nStep 5: Training Recommendation Models...\")\n",
        "\n",
        "# Initialize models\n",
        "user_cf = CollaborativeFilteringRecommender(method='user_based')\n",
        "item_cf = CollaborativeFilteringRecommender(method='item_based')\n",
        "mf_model = MatrixFactorizationRecommender(n_components=50)\n",
        "\n",
        "print(\"Training User-based Collaborative Filtering...\")\n",
        "user_cf.fit(train_matrix)\n",
        "\n",
        "print(\"Training Item-based Collaborative Filtering...\")\n",
        "item_cf.fit(train_matrix)\n",
        "\n",
        "print(\"Training Matrix Factorization (SVD)...\")\n",
        "mf_model.fit(train_matrix)"
      ]
    },
    {
      "cell_type": "code",
      "execution_count": null,
      "metadata": {
        "id": "fL_9koidJTz9"
      },
      "outputs": [],
      "source": [
        "# Step 8: Evaluation Functions\n",
        "def evaluate_model(model, test_matrix, train_matrix, model_type='cf'):\n",
        "    predictions = []\n",
        "    actuals = []\n",
        "\n",
        "    test_users = test_matrix.index\n",
        "    test_movies = test_matrix.columns\n",
        "\n",
        "    print(f\"Evaluating {model_type} model...\")\n",
        "\n",
        "    if model_type == 'mf':\n",
        "        # Matrix Factorization evaluation\n",
        "        pred_matrix = model.predict_all(train_matrix)\n",
        "\n",
        "        for i, user in enumerate(test_users):\n",
        "            for j, movie in enumerate(test_movies):\n",
        "                actual = test_matrix.loc[user, movie]\n",
        "                if actual > 0:  # Only evaluate on actual ratings\n",
        "                    predicted = pred_matrix[i, j]\n",
        "                    predictions.append(predicted)\n",
        "                    actuals.append(actual)\n",
        "    else:\n",
        "        # Collaborative Filtering evaluation\n",
        "        count = 0\n",
        "        for user in test_users:\n",
        "            for movie in test_movies:\n",
        "                actual = test_matrix.loc[user, movie]\n",
        "                if actual > 0:  # Only evaluate on actual ratings\n",
        "                    predicted = model.predict(user, movie)\n",
        "                    predictions.append(predicted)\n",
        "                    actuals.append(actual)\n",
        "                    count += 1\n",
        "                    if count % 1000 == 0:\n",
        "                        print(f\"  Processed {count} predictions...\")\n",
        "\n",
        "    if predictions:\n",
        "        rmse = np.sqrt(mean_squared_error(actuals, predictions))\n",
        "        mae = mean_absolute_error(actuals, predictions)\n",
        "        return rmse, mae, predictions, actuals\n",
        "    else:\n",
        "        return float('inf'), float('inf'), [], []"
      ]
    },
    {
      "cell_type": "code",
      "execution_count": null,
      "metadata": {
        "colab": {
          "base_uri": "https://localhost:8080/"
        },
        "id": "tEf072UAJjMO",
        "outputId": "15e8d8e8-9eac-419e-9c92-48ff5464103c"
      },
      "outputs": [
        {
          "name": "stdout",
          "output_type": "stream",
          "text": [
            "\n",
            "Step 6: Model Evaluation...\n",
            "Evaluating User-based Collaborative Filtering...\n",
            "Evaluating cf model...\n",
            "  Processed 1000 predictions...\n",
            "  Processed 2000 predictions...\n",
            "  Processed 3000 predictions...\n",
            "  Processed 4000 predictions...\n",
            "  Processed 5000 predictions...\n",
            "  Processed 6000 predictions...\n",
            "  Processed 7000 predictions...\n",
            "  Processed 8000 predictions...\n",
            "  Processed 9000 predictions...\n",
            "  Processed 10000 predictions...\n",
            "  Processed 11000 predictions...\n",
            "  Processed 12000 predictions...\n",
            "  Processed 13000 predictions...\n",
            "  Processed 14000 predictions...\n",
            "  Processed 15000 predictions...\n",
            "  Processed 16000 predictions...\n",
            "  Processed 17000 predictions...\n",
            "  Processed 18000 predictions...\n",
            "  Processed 19000 predictions...\n",
            "  Processed 20000 predictions...\n",
            "  Processed 21000 predictions...\n",
            "  Processed 22000 predictions...\n",
            "  Processed 23000 predictions...\n",
            "  Processed 24000 predictions...\n",
            "  Processed 25000 predictions...\n",
            "  Processed 26000 predictions...\n",
            "  Processed 27000 predictions...\n",
            "  Processed 28000 predictions...\n",
            "  Processed 29000 predictions...\n",
            "  Processed 30000 predictions...\n",
            "  Processed 31000 predictions...\n",
            "  Processed 32000 predictions...\n",
            "  Processed 33000 predictions...\n",
            "  Processed 34000 predictions...\n",
            "  Processed 35000 predictions...\n",
            "  Processed 36000 predictions...\n",
            "  Processed 37000 predictions...\n",
            "  Processed 38000 predictions...\n",
            "  Processed 39000 predictions...\n",
            "  Processed 40000 predictions...\n",
            "  Processed 41000 predictions...\n",
            "  Processed 42000 predictions...\n",
            "  Processed 43000 predictions...\n",
            "  Processed 44000 predictions...\n",
            "  Processed 45000 predictions...\n",
            "  Processed 46000 predictions...\n",
            "  Processed 47000 predictions...\n",
            "  Processed 48000 predictions...\n",
            "  Processed 49000 predictions...\n",
            "  Processed 50000 predictions...\n",
            "  Processed 51000 predictions...\n",
            "  Processed 52000 predictions...\n",
            "  Processed 53000 predictions...\n",
            "  Processed 54000 predictions...\n",
            "  Processed 55000 predictions...\n",
            "  Processed 56000 predictions...\n",
            "  Processed 57000 predictions...\n",
            "  Processed 58000 predictions...\n",
            "  Processed 59000 predictions...\n",
            "  Processed 60000 predictions...\n",
            "  Processed 61000 predictions...\n",
            "  Processed 62000 predictions...\n",
            "  Processed 63000 predictions...\n",
            "  Processed 64000 predictions...\n",
            "  Processed 65000 predictions...\n",
            "  Processed 66000 predictions...\n",
            "  Processed 67000 predictions...\n",
            "  Processed 68000 predictions...\n",
            "  Processed 69000 predictions...\n",
            "  Processed 70000 predictions...\n",
            "  Processed 71000 predictions...\n",
            "  Processed 72000 predictions...\n",
            "  Processed 73000 predictions...\n",
            "  Processed 74000 predictions...\n",
            "  Processed 75000 predictions...\n",
            "  Processed 76000 predictions...\n",
            "  Processed 77000 predictions...\n",
            "  Processed 78000 predictions...\n",
            "  Processed 79000 predictions...\n",
            "  Processed 80000 predictions...\n",
            "  Processed 81000 predictions...\n",
            "  Processed 82000 predictions...\n",
            "  Processed 83000 predictions...\n",
            "  Processed 84000 predictions...\n",
            "  Processed 85000 predictions...\n",
            "  Processed 86000 predictions...\n",
            "  Processed 87000 predictions...\n",
            "  Processed 88000 predictions...\n",
            "  Processed 89000 predictions...\n",
            "  Processed 90000 predictions...\n",
            "  Processed 91000 predictions...\n",
            "  Processed 92000 predictions...\n",
            "  Processed 93000 predictions...\n",
            "  Processed 94000 predictions...\n",
            "  Processed 95000 predictions...\n",
            "  Processed 96000 predictions...\n",
            "  Processed 97000 predictions...\n",
            "  Processed 98000 predictions...\n",
            "  Processed 99000 predictions...\n",
            "  Processed 100000 predictions...\n",
            "  Processed 101000 predictions...\n",
            "  Processed 102000 predictions...\n",
            "  Processed 103000 predictions...\n",
            "  Processed 104000 predictions...\n",
            "  Processed 105000 predictions...\n",
            "  Processed 106000 predictions...\n",
            "  Processed 107000 predictions...\n",
            "  Processed 108000 predictions...\n",
            "  Processed 109000 predictions...\n",
            "  Processed 110000 predictions...\n",
            "  Processed 111000 predictions...\n",
            "  Processed 112000 predictions...\n",
            "  Processed 113000 predictions...\n",
            "  Processed 114000 predictions...\n",
            "  Processed 115000 predictions...\n",
            "  Processed 116000 predictions...\n",
            "  Processed 117000 predictions...\n",
            "  Processed 118000 predictions...\n",
            "  Processed 119000 predictions...\n",
            "  Processed 120000 predictions...\n",
            "  Processed 121000 predictions...\n",
            "  Processed 122000 predictions...\n",
            "  Processed 123000 predictions...\n",
            "Evaluating Item-based Collaborative Filtering...\n",
            "Evaluating cf model...\n",
            "  Processed 1000 predictions...\n",
            "  Processed 2000 predictions...\n",
            "  Processed 3000 predictions...\n",
            "  Processed 4000 predictions...\n",
            "  Processed 5000 predictions...\n",
            "  Processed 6000 predictions...\n",
            "  Processed 7000 predictions...\n",
            "  Processed 8000 predictions...\n",
            "  Processed 9000 predictions...\n",
            "  Processed 10000 predictions...\n",
            "  Processed 11000 predictions...\n",
            "  Processed 12000 predictions...\n",
            "  Processed 13000 predictions...\n",
            "  Processed 14000 predictions...\n",
            "  Processed 15000 predictions...\n",
            "  Processed 16000 predictions...\n",
            "  Processed 17000 predictions...\n",
            "  Processed 18000 predictions...\n",
            "  Processed 19000 predictions...\n",
            "  Processed 20000 predictions...\n",
            "  Processed 21000 predictions...\n",
            "  Processed 22000 predictions...\n",
            "  Processed 23000 predictions...\n",
            "  Processed 24000 predictions...\n",
            "  Processed 25000 predictions...\n",
            "  Processed 26000 predictions...\n",
            "  Processed 27000 predictions...\n",
            "  Processed 28000 predictions...\n",
            "  Processed 29000 predictions...\n",
            "  Processed 30000 predictions...\n",
            "  Processed 31000 predictions...\n",
            "  Processed 32000 predictions...\n",
            "  Processed 33000 predictions...\n",
            "  Processed 34000 predictions...\n",
            "  Processed 35000 predictions...\n",
            "  Processed 36000 predictions...\n",
            "  Processed 37000 predictions...\n",
            "  Processed 38000 predictions...\n",
            "  Processed 39000 predictions...\n",
            "  Processed 40000 predictions...\n",
            "  Processed 41000 predictions...\n",
            "  Processed 42000 predictions...\n",
            "  Processed 43000 predictions...\n",
            "  Processed 44000 predictions...\n",
            "  Processed 45000 predictions...\n",
            "  Processed 46000 predictions...\n",
            "  Processed 47000 predictions...\n",
            "  Processed 48000 predictions...\n",
            "  Processed 49000 predictions...\n",
            "  Processed 50000 predictions...\n",
            "  Processed 51000 predictions...\n",
            "  Processed 52000 predictions...\n",
            "  Processed 53000 predictions...\n",
            "  Processed 54000 predictions...\n",
            "  Processed 55000 predictions...\n",
            "  Processed 56000 predictions...\n",
            "  Processed 57000 predictions...\n",
            "  Processed 58000 predictions...\n",
            "  Processed 59000 predictions...\n",
            "  Processed 60000 predictions...\n",
            "  Processed 61000 predictions...\n",
            "  Processed 62000 predictions...\n",
            "  Processed 63000 predictions...\n",
            "  Processed 64000 predictions...\n",
            "  Processed 65000 predictions...\n",
            "  Processed 66000 predictions...\n",
            "  Processed 67000 predictions...\n",
            "  Processed 68000 predictions...\n",
            "  Processed 69000 predictions...\n",
            "  Processed 70000 predictions...\n",
            "  Processed 71000 predictions...\n",
            "  Processed 72000 predictions...\n",
            "  Processed 73000 predictions...\n",
            "  Processed 74000 predictions...\n",
            "  Processed 75000 predictions...\n",
            "  Processed 76000 predictions...\n",
            "  Processed 77000 predictions...\n",
            "  Processed 78000 predictions...\n",
            "  Processed 79000 predictions...\n",
            "  Processed 80000 predictions...\n",
            "  Processed 81000 predictions...\n",
            "  Processed 82000 predictions...\n",
            "  Processed 83000 predictions...\n",
            "  Processed 84000 predictions...\n",
            "  Processed 85000 predictions...\n",
            "  Processed 86000 predictions...\n",
            "  Processed 87000 predictions...\n",
            "  Processed 88000 predictions...\n",
            "  Processed 89000 predictions...\n",
            "  Processed 90000 predictions...\n",
            "  Processed 91000 predictions...\n",
            "  Processed 92000 predictions...\n",
            "  Processed 93000 predictions...\n",
            "  Processed 94000 predictions...\n",
            "  Processed 95000 predictions...\n",
            "  Processed 96000 predictions...\n",
            "  Processed 97000 predictions...\n",
            "  Processed 98000 predictions...\n",
            "  Processed 99000 predictions...\n",
            "  Processed 100000 predictions...\n",
            "  Processed 101000 predictions...\n",
            "  Processed 102000 predictions...\n",
            "  Processed 103000 predictions...\n",
            "  Processed 104000 predictions...\n",
            "  Processed 105000 predictions...\n",
            "  Processed 106000 predictions...\n",
            "  Processed 107000 predictions...\n",
            "  Processed 108000 predictions...\n",
            "  Processed 109000 predictions...\n",
            "  Processed 110000 predictions...\n",
            "  Processed 111000 predictions...\n",
            "  Processed 112000 predictions...\n",
            "  Processed 113000 predictions...\n",
            "  Processed 114000 predictions...\n",
            "  Processed 115000 predictions...\n",
            "  Processed 116000 predictions...\n",
            "  Processed 117000 predictions...\n",
            "  Processed 118000 predictions...\n",
            "  Processed 119000 predictions...\n",
            "  Processed 120000 predictions...\n",
            "  Processed 121000 predictions...\n",
            "  Processed 122000 predictions...\n",
            "  Processed 123000 predictions...\n",
            "Evaluating Matrix Factorization...\n",
            "Evaluating mf model...\n"
          ]
        }
      ],
      "source": [
        "# Step 9: Model Evaluation\n",
        "print(\"\\nStep 6: Model Evaluation...\")\n",
        "\n",
        "# Evaluate models\n",
        "print(\"Evaluating User-based Collaborative Filtering...\")\n",
        "user_cf_rmse, user_cf_mae, user_cf_pred, user_cf_actual = evaluate_model(\n",
        "    user_cf, test_matrix, train_matrix, 'cf'\n",
        ")\n",
        "\n",
        "print(\"Evaluating Item-based Collaborative Filtering...\")\n",
        "item_cf_rmse, item_cf_mae, item_cf_pred, item_cf_actual = evaluate_model(\n",
        "    item_cf, test_matrix, train_matrix, 'cf'\n",
        ")\n",
        "\n",
        "print(\"Evaluating Matrix Factorization...\")\n",
        "mf_rmse, mf_mae, mf_pred, mf_actual = evaluate_model(\n",
        "    mf_model, test_matrix, train_matrix, 'mf'\n",
        ")"
      ]
    },
    {
      "cell_type": "code",
      "execution_count": null,
      "metadata": {
        "colab": {
          "base_uri": "https://localhost:8080/"
        },
        "id": "9iKcjmbOJoTE",
        "outputId": "13188840-8e32-47b8-8ebd-afd8323a4f48"
      },
      "outputs": [
        {
          "name": "stdout",
          "output_type": "stream",
          "text": [
            "\n",
            "==================================================\n",
            "EVALUATION RESULTS\n",
            "==================================================\n",
            "               Model     RMSE      MAE\n",
            "       User-based CF 3.393096 2.245081\n",
            "       Item-based CF 2.830388 1.785452\n",
            "Matrix Factorization 2.851071 2.494429\n"
          ]
        }
      ],
      "source": [
        "# Step 10: Results and Visualization\n",
        "print(\"\\n\" + \"=\"*50)\n",
        "print(\"EVALUATION RESULTS\")\n",
        "print(\"=\"*50)\n",
        "\n",
        "results_df = pd.DataFrame({\n",
        "    'Model': ['User-based CF', 'Item-based CF', 'Matrix Factorization'],\n",
        "    'RMSE': [user_cf_rmse, item_cf_rmse, mf_rmse],\n",
        "    'MAE': [user_cf_mae, item_cf_mae, mf_mae]\n",
        "})\n",
        "\n",
        "print(results_df.to_string(index=False))"
      ]
    },
    {
      "cell_type": "code",
      "execution_count": null,
      "metadata": {
        "id": "daW7QtxIkpdl"
      },
      "outputs": [],
      "source": [
        "# Step 11: Generate Recommendations\n",
        "def get_recommendations(user_id, model, user_item_matrix, movies_df, n_recommendations=10):\n",
        "    \"\"\"Generate top-N recommendations for a user\"\"\"\n",
        "\n",
        "    if user_id not in user_item_matrix.index:\n",
        "        print(f\"User {user_id} not found in training data\")\n",
        "        return []\n",
        "\n",
        "    user_ratings = user_item_matrix.loc[user_id]\n",
        "    unrated_movies = user_ratings[user_ratings == 0].index\n",
        "\n",
        "    recommendations = []\n",
        "\n",
        "    if isinstance(model, MatrixFactorizationRecommender):\n",
        "        # Matrix Factorization recommendations\n",
        "        user_idx = list(user_item_matrix.index).index(user_id)\n",
        "        pred_matrix = model.predict_all(user_item_matrix)\n",
        "\n",
        "        for movie_id in unrated_movies:\n",
        "            if movie_id in user_item_matrix.columns:\n",
        "                movie_idx = list(user_item_matrix.columns).index(movie_id)\n",
        "                predicted_rating = pred_matrix[user_idx, movie_idx]\n",
        "                recommendations.append((movie_id, predicted_rating))\n",
        "    else:\n",
        "        # Collaborative Filtering recommendations\n",
        "        for movie_id in unrated_movies:\n",
        "            predicted_rating = model.predict(user_id, movie_id)\n",
        "            recommendations.append((movie_id, predicted_rating))\n",
        "\n",
        "    # Sort by predicted rating\n",
        "    recommendations.sort(key=lambda x: x[1], reverse=True)\n",
        "\n",
        "    # Get top N recommendations with movie titles\n",
        "    top_recommendations = []\n",
        "    for movie_id, rating in recommendations[:n_recommendations]:\n",
        "        movie_title = movies_df[movies_df['movie_id'] == movie_id]['title'].values\n",
        "        if len(movie_title) > 0:\n",
        "            top_recommendations.append({\n",
        "                'movie_id': movie_id,\n",
        "                'title': movie_title[0],\n",
        "                'predicted_rating': rating\n",
        "            })\n",
        "\n",
        "    return top_recommendations"
      ]
    },
    {
      "cell_type": "code",
      "execution_count": null,
      "metadata": {
        "colab": {
          "base_uri": "https://localhost:8080/"
        },
        "id": "dFP58w05nZY0",
        "outputId": "c6bd3695-4543-47a2-f5df-94be4f5c09ad"
      },
      "outputs": [
        {
          "name": "stdout",
          "output_type": "stream",
          "text": [
            "\n",
            "==================================================\n",
            "SAMPLE RECOMMENDATIONS\n",
            "==================================================\n"
          ]
        }
      ],
      "source": [
        "# Step 12: Demonstration - Generate Sample Recommendations\n",
        "print(\"\\n\" + \"=\"*50)\n",
        "print(\"SAMPLE RECOMMENDATIONS\")\n",
        "print(\"=\"*50)\n"
      ]
    },
    {
      "cell_type": "code",
      "execution_count": null,
      "metadata": {
        "id": "aJojtdcWndQO"
      },
      "outputs": [],
      "source": [
        "# Select best model for recommendations\n",
        "if best_model_name == 'User-based CF':\n",
        "    best_model = user_cf\n",
        "elif best_model_name == 'Item-based CF':\n",
        "    best_model = item_cf\n",
        "else:\n",
        "    best_model = mf_model\n",
        "\n",
        "# Get sample user\n",
        "sample_users = train_matrix.index[:3]"
      ]
    },
    {
      "cell_type": "code",
      "execution_count": null,
      "metadata": {
        "colab": {
          "background_save": true,
          "base_uri": "https://localhost:8080/"
        },
        "id": "p8zf3ZN7nhtC",
        "outputId": "f059c940-53b8-470f-94a2-05950980dec8"
      },
      "outputs": [
        {
          "name": "stdout",
          "output_type": "stream",
          "text": [
            "\n",
            "Recommendations for User 3:\n",
            "----------------------------------------\n",
            "User's Top Rated Movies:\n",
            "  • 1917 (2019): 10.0\n",
            "  • Gisaengchung (2019): 9.0\n",
            "  • The Silence of the Lambs (1991): 9.0\n",
            "  • Walk the Line (2005): 9.0\n",
            "  • Tenet (2020): 8.0\n",
            "\n",
            "Top 5 Recommendations:\n",
            "  1. The Last Duel (2021): 10.00\n",
            "  2. Five Feet Apart (2019): 10.00\n",
            "  3. Palmer (2021): 10.00\n",
            "  4. Miss Americana (2020): 10.00\n",
            "  5. The Highwaymen (2019): 10.00\n",
            "\n",
            "Recommendations for User 39:\n",
            "----------------------------------------\n",
            "User's Top Rated Movies:\n",
            "  • Interstellar (2014): 10.0\n",
            "  • Catch Me If You Can (2002): 10.0\n",
            "  • The Dark Knight Rises (2012): 10.0\n",
            "  • Inception (2010): 10.0\n",
            "  • The Wedding Ringer (2015): 10.0\n",
            "\n",
            "Top 5 Recommendations:\n",
            "  1. A Clockwork Orange (1971): 10.00\n",
            "  2. Philadelphia (1993): 10.00\n",
            "  3. Casino (1995): 10.00\n",
            "  4. Anastasia (1997): 10.00\n",
            "  5. The Negotiator (1998): 10.00\n",
            "\n",
            "Recommendations for User 47:\n",
            "----------------------------------------\n",
            "User's Top Rated Movies:\n",
            "  • The Fate of the Furious (2017): 10.0\n",
            "  • Avengers: Endgame (2019): 10.0\n",
            "  • Geostorm (2017): 10.0\n",
            "  • The Hitman's Bodyguard (2017): 10.0\n",
            "  • The Hangover Part III (2013): 9.0\n",
            "\n",
            "Top 5 Recommendations:\n",
            "  1. Rings (2017): 10.00\n",
            "  2. Unthinkable (2010): 10.00\n",
            "  3. The Prince (2014): 10.00\n",
            "  4. Rambo: Last Blood (2019): 10.00\n",
            "  5. The Lost City of Z (2016): 10.00\n"
          ]
        }
      ],
      "source": [
        "for user_id in sample_users:\n",
        "    print(f\"\\nRecommendations for User {user_id}:\")\n",
        "    print(\"-\" * 40)\n",
        "\n",
        "    # Show user's previous ratings\n",
        "    user_ratings = train_matrix.loc[user_id]\n",
        "    rated_movies = user_ratings[user_ratings > 0].sort_values(ascending=False)[:5]\n",
        "\n",
        "    print(\"User's Top Rated Movies:\")\n",
        "    for movie_id, rating in rated_movies.items():\n",
        "        movie_title = movies[movies['movie_id'] == movie_id]['title'].values\n",
        "        title = movie_title[0] if len(movie_title) > 0 else f\"Movie {movie_id}\"\n",
        "        print(f\"  • {title}: {rating:.1f}\")\n",
        "\n",
        "    # Generate recommendations\n",
        "    recommendations = get_recommendations(user_id, best_model, train_matrix, movies, 5)\n",
        "\n",
        "    print(\"\\nTop 5 Recommendations:\")\n",
        "    for i, rec in enumerate(recommendations, 1):\n",
        "        print(f\"  {i}. {rec['title']}: {rec['predicted_rating']:.2f}\")"
      ]
    },
    {
      "cell_type": "code",
      "execution_count": 24,
      "metadata": {
        "id": "UNvJITJ_nl7u",
        "colab": {
          "base_uri": "https://localhost:8080/",
          "height": 662
        },
        "outputId": "a762ab72-168a-4eba-934c-b79d201b06c3"
      },
      "outputs": [
        {
          "output_type": "stream",
          "name": "stdout",
          "text": [
            "\n",
            "Generating performance visualization...\n"
          ]
        },
        {
          "output_type": "display_data",
          "data": {
            "text/plain": [
              "<Figure size 1500x600 with 2 Axes>"
            ],
            "image/png": "[encoded data removed]"
          },
          "metadata": {}
        }
      ],
      "source": [
        "# Step 13: Model Performance Visualization\n",
        "print(\"\\nGenerating performance visualization...\")\n",
        "\n",
        "# Create comparison plot\n",
        "fig, (ax1, ax2) = plt.subplots(1, 2, figsize=(15, 6))\n",
        "\n",
        "# RMSE Comparison\n",
        "models = ['User-based CF', 'Item-based CF', 'Matrix Factorization']\n",
        "rmse_values = [user_cf_rmse, item_cf_rmse, mf_rmse]\n",
        "mae_values = [user_cf_mae, item_cf_mae, mf_mae]\n",
        "\n",
        "ax1.bar(models, rmse_values, color=['skyblue', 'lightgreen', 'salmon'])\n",
        "ax1.set_title('Model Comparison - RMSE')\n",
        "ax1.set_ylabel('RMSE')\n",
        "ax1.tick_params(axis='x', rotation=45)\n",
        "\n",
        "ax2.bar(models, mae_values, color=['skyblue', 'lightgreen', 'salmon'])\n",
        "ax2.set_title('Model Comparison - MAE')\n",
        "ax2.set_ylabel('MAE')\n",
        "ax2.tick_params(axis='x', rotation=45)\n",
        "\n",
        "plt.tight_layout()\n",
        "plt.show()"
      ]
    },
    {
      "cell_type": "code",
      "source": [],
      "metadata": {
        "id": "nBAuooCixDBk"
      },
      "execution_count": null,
      "outputs": []
    }
  ],
  "metadata": {
    "colab": {
      "provenance": []
    },
    "kernelspec": {
      "display_name": "Python 3",
      "name": "python3"
    },
    "language_info": {
      "name": "python"
    }
  },
  "nbformat": 4,
  "nbformat_minor": 0
}